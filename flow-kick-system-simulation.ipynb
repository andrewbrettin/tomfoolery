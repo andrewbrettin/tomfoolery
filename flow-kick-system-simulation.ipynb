{
 "cells": [
  {
   "cell_type": "code",
   "execution_count": 1,
   "metadata": {
    "collapsed": true
   },
   "outputs": [],
   "source": [
    "import numpy as np\n",
    "import matplotlib.pyplot as plt\n",
    "from scipy.integrate import odeint"
   ]
  },
  {
   "cell_type": "code",
   "execution_count": 45,
   "metadata": {
    "collapsed": true
   },
   "outputs": [],
   "source": [
    "# Parameters\n",
    "\n",
    "a_n = 1\n",
    "a_e = 2\n",
    "N_n = 1\n",
    "N_e = 2\n",
    "b_nn = 1\n",
    "b_en = 2\n",
    "b_ne = .5\n",
    "b_ee = .5\n",
    "m_n = .1\n",
    "m_e = .1\n",
    "k_n = .1\n",
    "k_e = .05\n",
    "sigma = 1\n",
    "gamma_n = 1\n",
    "gamma_e = 1\n",
    "c = 2.25\n",
    "\n",
    "tau = 10\n",
    "H = 0.5\n",
    "delta = .1"
   ]
  },
  {
   "cell_type": "code",
   "execution_count": 46,
   "metadata": {
    "collapsed": true
   },
   "outputs": [],
   "source": [
    "def f(x, t):\n",
    "    f_1 = (a_n * (x[4] - N_n) - b_nn * x[2] - b_en * x[3]) * x[0]\n",
    "    f_2 = (a_e * (x[4] - N_e) - b_ee * x[3] - b_ne * x[2]) * x[1]\n",
    "\n",
    "    return (\n",
    "        f_1 - m_n * x[0],\n",
    "        f_2 - m_e * x[1],\n",
    "        m_n * x[0] - k_n * x[2],\n",
    "        m_e * x[1] - k_e * x[3],\n",
    "        c - sigma * x[4] + gamma_n * (f_1 + k_n * x[2]) + gamma_e * (f_2 + k_e * x[3])\n",
    "    )"
   ]
  },
  {
   "cell_type": "code",
   "execution_count": 51,
   "metadata": {
    "collapsed": true
   },
   "outputs": [],
   "source": [
    "def flow(f, x_0, t_0, tau, res = 100):\n",
    "    \"\"\" \n",
    "        To do. \n",
    "    \"\"\"\n",
    "    ts = np.linspace(t_0, t_0 + tau, res)\n",
    "    xs = odeint(f, x_0, ts)\n",
    "    return (ts, xs)"
   ]
  },
  {
   "cell_type": "code",
   "execution_count": 48,
   "metadata": {
    "collapsed": true
   },
   "outputs": [],
   "source": [
    "def kick(X):\n",
    "    const = -H / (delta * (X[0] + X[1]) + X[2] + X[3])\n",
    "    kick_vector = np.array([\n",
    "        const * delta * X[0],\n",
    "        const * delta * X[1],\n",
    "        const * X[2],\n",
    "        const * X[3],\n",
    "        0\n",
    "    ])\n",
    "    return kick_vector"
   ]
  },
  {
   "cell_type": "code",
   "execution_count": null,
   "metadata": {
    "collapsed": true
   },
   "outputs": [],
   "source": [
    "def flow_and_kick(f, x_0, t_0, tau, T, res = 100):\n",
    "    \"\"\" Returns t,x pair of the flow-kick system.\n",
    "        tau is the time span between flow kicks\n",
    "        T is the total simulation timespan. \"\"\"\n",
    "    "
   ]
  },
  {
   "cell_type": "code",
   "execution_count": 74,
   "metadata": {},
   "outputs": [
    {
     "data": {
      "text/plain": [
       "(100, 5)"
      ]
     },
     "execution_count": 74,
     "metadata": {},
     "output_type": "execute_result"
    }
   ],
   "source": [
    "x_0 = (1,1,1,1,1)\n",
    "ts, xs = flow(f, x_0, 0, 3)\n",
    "xs\n",
    "np.shape(xs)"
   ]
  },
  {
   "cell_type": "code",
   "execution_count": 82,
   "metadata": {
    "collapsed": true
   },
   "outputs": [],
   "source": [
    "def time_plot(ts, xs, variable = 0, directory = None):\n",
    "    \"\"\" \n",
    "        variable is the coordinate number of the variable of interest (default to 0)\"\"\"\n",
    "    plt.clf()\n",
    "    fig = plt.figure();\n",
    "    ax = fig.add_axes([0.1, 0.1, 0.8, 0.8]);\n",
    "    ax.plot(ts, xs[:,variable]);\n",
    "    plt.show()\n",
    "    #if directory != None:\n",
    "    #    plt.savefig()"
   ]
  },
  {
   "cell_type": "code",
   "execution_count": 83,
   "metadata": {},
   "outputs": [],
   "source": [
    "def all_time_plot(ts, xs, directory = None):\n",
    "    \"\"\" Plots time series plots for each state variable. \"\"\"\n",
    "    plt.clf()\n",
    "    dim = np.shape(xs)[1] # Dimension of state vector\n",
    "    fig = plt.figure();\n",
    "    ax = fig.add_axes([0.1, 0.1, 0.8, 0.8]);\n",
    "    for i in range(dim):\n",
    "        ax.plot(ts, xs[:,i]);\n",
    "    plt.show()"
   ]
  },
  {
   "cell_type": "code",
   "execution_count": 84,
   "metadata": {
    "collapsed": true
   },
   "outputs": [],
   "source": [
    "def phase_plot(xs, var_1, var_2):\n",
    "    \"\"\" given the values of xs, plots two of the variables \n",
    "        against each other (phase portrait) \n",
    "        var_1: coordinate of x_axis variable\n",
    "        var_2: coordinate of y_axis variable \"\"\"\n",
    "    plt.clf()\n",
    "    fig = plt.figure();\n",
    "    ax = fig.add_axes([0.1, 0.1, 0.8, 0.8]);\n",
    "    ax.plot(xs[:, var_1], xs[:, var_2]);\n",
    "    plt.show()"
   ]
  },
  {
   "cell_type": "code",
   "execution_count": 86,
   "metadata": {},
   "outputs": [
    {
     "data": {
      "text/plain": [
       "<matplotlib.figure.Figure at 0x15183cea20>"
      ]
     },
     "metadata": {},
     "output_type": "display_data"
    },
    {
     "data": {
      "image/png": "[encoded data removed]",
      "text/plain": [
       "<matplotlib.figure.Figure at 0x15182e6438>"
      ]
     },
     "metadata": {},
     "output_type": "display_data"
    }
   ],
   "source": [
    "phase_plot(xs, 0, 1)"
   ]
  },
  {
   "cell_type": "code",
   "execution_count": null,
   "metadata": {
    "collapsed": true
   },
   "outputs": [],
   "source": []
  }
 ],
 "metadata": {
  "kernelspec": {
   "display_name": "Python 3",
   "language": "python",
   "name": "python3"
  },
  "language_info": {
   "codemirror_mode": {
    "name": "ipython",
    "version": 3
   },
   "file_extension": ".py",
   "mimetype": "text/x-python",
   "name": "python",
   "nbconvert_exporter": "python",
   "pygments_lexer": "ipython3",
   "version": "3.6.3"
  }
 },
 "nbformat": 4,
 "nbformat_minor": 2
}
