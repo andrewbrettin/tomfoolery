{
 "cells": [
  {
   "cell_type": "markdown",
   "metadata": {},
   "source": [
    "# Binomial probability threshholds#\n",
    "Conduct experiment with probability $p$ of success each time. What is the number of trials needed to be 50% sure that a success has occurred at least once?"
   ]
  },
  {
   "cell_type": "markdown",
   "metadata": {},
   "source": [
    "We want to solve the following inequality for n:\n",
    "\\begin{equation}\n",
    "    \\begin{aligned}\n",
    "        &P(X\\geq 0) \\geq 0.5 \\\\\n",
    "        &\\Leftrightarrow 1 - P(X=0) \\geq 0.5 \\\\\n",
    "        &\\Leftrightarrow 1 - \\frac{n!}{0!(n-0)!}p^0(1-p)^{n} \\geq 0.5 \\\\\n",
    "        &\\Leftrightarrow 0.5 \\geq (1-p)^n \\\\\n",
    "        &\\Leftrightarrow \\frac{\\log(0.5)}{\\log(1-p)} \\leq n\n",
    "    \\end{aligned}\n",
    "\\end{equation}"
   ]
  },
  {
   "cell_type": "markdown",
   "metadata": {},
   "source": [
    "In general, for a confidence threshhold $C$,\n",
    "we need\n",
    "$$n \\geq \\frac{\\log(1-C)}{\\log(1-p)}$$\n",
    "\n",
    "Series approximation to $\\frac{\\log(1-C)}{\\log(1-p)}$:\n",
    "$$\\frac{\\log(1-C)}{\\log(1-p)} \\approx \\log(1-C)\\left(\\frac{1}{2}-\\frac{1}{p}\\right)$$"
   ]
  },
  {
   "cell_type": "code",
   "execution_count": null,
   "metadata": {
    "collapsed": true
   },
   "outputs": [],
   "source": [
    "Series approximation to log(1-C)d"
   ]
  },
  {
   "cell_type": "code",
   "execution_count": null,
   "metadata": {
    "collapsed": true
   },
   "outputs": [],
   "source": []
  }
 ],
 "metadata": {
  "kernelspec": {
   "display_name": "Python 3",
   "language": "python",
   "name": "python3"
  },
  "language_info": {
   "codemirror_mode": {
    "name": "ipython",
    "version": 3
   },
   "file_extension": ".py",
   "mimetype": "text/x-python",
   "name": "python",
   "nbconvert_exporter": "python",
   "pygments_lexer": "ipython3",
   "version": "3.6.3"
  }
 },
 "nbformat": 4,
 "nbformat_minor": 2
}
