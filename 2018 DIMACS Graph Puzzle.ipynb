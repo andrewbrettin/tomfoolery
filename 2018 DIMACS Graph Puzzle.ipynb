{
 "cells": [
  {
   "cell_type": "code",
   "execution_count": 1,
   "metadata": {
    "collapsed": true
   },
   "outputs": [],
   "source": [
    "import numpy as np\n",
    "import networkx as nx\n",
    "import matplotlib as plt"
   ]
  },
  {
   "cell_type": "code",
   "execution_count": 2,
   "metadata": {
    "collapsed": true
   },
   "outputs": [],
   "source": [
    "references = {\n",
    "    'Andrew Brettin': ['Adam Jamil', 'Aubrey Hormel', 'Aneta Stastna', 'Caitlin Guccione', 'Christopher Espana', 'Alex Kautz', 'Zachary Stier', ],\n",
    "    'Dalton Burke': ['Elise Catania', 'Debra Chait', 'Alisa Cui', 'Christopher Espana', 'Caitlin Guccione', 'Adam Jamil', 'Alex Kautz', ],\n",
    "    'Elise Catania': ['Dalton Burke', 'Debra Chait', 'Gabriel Eiseman', 'Christopher Espana', 'Caitlin Guccione', 'Froylan Maldonado', 'Evaristo Rodriguez', ],\n",
    "    'Debra Chait': ['Dalton Burke', 'Elise Catania', 'Alisa Cui', 'Christopher Espana', 'Caitlin Guccione', 'Adam Jamil', 'Alex Kautz', ],\n",
    "    'Alisa Cui': ['Dalton Burke', 'Debra Chait', 'Christopher Espana', 'Xiaotong Gui', 'Aubrey Hormel', 'Adam Jamil', 'Alex Kautz', 'Xinru Liu', 'Zachary Stier', ],\n",
    "    'Gabriel Eiseman': ['Elise Catania', 'Heman Gandhi', 'Froylan Maldonado', ],\n",
    "    'Christopher Espana': ['Andrew Brettin', 'Dalton Burke', 'Elise Catania', 'Debra Chait', 'Alisa Cui', 'Caitlin Guccione', 'Aubrey Hormel', 'Adam Jamil', 'Alex Kautz', 'Aneta Stastna', ],\n",
    "    'Heman Gandhi': ['Gabriel Eiseman', 'Jakub Tetek', ],\n",
    "    'Nicholas Georgiou': ['Pejmon Shariati', 'Michael Skotnica', 'Ondrej Splichal', ],\n",
    "    'Ryan Gross': ['Scott Harman', 'Rahul Ilango', 'Ruby Ortiz', 'Ryan Rice', 'Sherry Sarkar', ],\n",
    "    'Caitlin Guccione': ['Andrew Brettin', 'Dalton Burke', 'Elise Catania', 'Debra Chait', 'Christopher Espana', 'Aubrey Hormel', 'Daniel Nakhimovich', 'Aneta Stastna', ],\n",
    "    'Xiaotong Gui': ['Alisa Cui', 'Adam Jamil', 'Alex Kautz', 'Xinru Liu', 'Zachary Stier', ],\n",
    "    'Scott Harman': ['Ryan Gross', 'Rahul Ilango', 'Ruby Ortiz', 'Ryan Rice', 'Sherry Sarkar', 'Timothy Stavetski', ],\n",
    "    'Martin Hora': ['Jakub Tetek', 'Neekon Vafa', 'Michael Yang'],\n",
    "    'Aubrey Hormel': ['Andrew Brettin', 'Alisa Cui', 'Christopher Espana', 'Caitlin Guccione', 'Adam Jamil', 'Alex Kautz', 'Aneta Stastna', 'Zachary Stier', ],\n",
    "    'Rahul Ilango': ['Scott Harman', 'Ryan Gross', 'Ruby Ortiz', 'Ryan Rice', 'Sherry Sarkar', 'Pejmon Shariati', ],\n",
    "    'Adam Jamil': ['Andrew Brettin', 'Dalton Burke', 'Debra Chait', 'Alisa Cui', 'Christopher Espana', 'Xiaotong Gui', 'Aubrey Hormel', 'Alex Kautz', 'Xinru Liu', 'Aneta Stastna', 'Zachary Stier', ],\n",
    "    'Alex Kautz': ['Andrew Brettin', 'Dalton Burke', 'Debra Chait', 'Alisa Cui', 'Christopher Espana', 'Xiaotong Gui', 'Aubrey Hormel', 'Adam Jamil', 'Xinru Liu', 'Aneta Stastna', 'Zachary Stier', ],\n",
    "    'Vaclav Koncicky': [],\n",
    "    'Xinru Liu': ['Alisa Cui', 'Xiaotong Gui', 'Adam Jamil', 'Alex Kautz', 'Zachary Stier', ],\n",
    "    'Froylan Maldonado': ['Elise Catania', 'Gabriel Eiseman', 'Evaristo Rodriguez', ],\n",
    "    'Daniel Nakhimovich': ['Caitlin Guccione', 'Evaristo Rodriguez'],\n",
    "    'Ruby Ortiz': ['Ryan Gross', 'Scott Harman', 'Rahul Ilango', 'Ryan Rice', 'Sherry Sarkar', ],\n",
    "    'Ryan Rice': ['Scott Harman', 'Ryan Gross', 'Rahul Ilango', 'Ruby Ortiz', 'Sherry Sarkar', 'Neekon Vafa'],\n",
    "    'Evaristo Rodriguez': ['Elise Catania', 'Froylan Maldonado', 'Daniel Nakhimovich', ],\n",
    "    'Sherry Sarkar': ['Ryan Gross', 'Scott Harman', 'Rahul Ilango', 'Ruby Ortiz', 'Ryan Rice', 'Timothy Stavetski', ],\n",
    "    'Pejmon Shariati': ['Nicholas Georgiou', 'Rahul Ilango', 'Ondrej Splichal', ],\n",
    "    'Michael Skotnica': ['Nicholas Georgiou', 'Ondrej Splichal', ],\n",
    "    'Ondrej Splichal': ['Nicholas Georgiou', 'Pejmon Shariati', 'Michael Skotnica'],\n",
    "    'Aneta Stastna': ['Andrew Brettin', 'Christopher Espana', 'Caitlin Guccione', 'Aubrey Hormel', 'Adam Jamil', 'Alex Kautz', 'Zachary Stier', ],\n",
    "    'Timothy Stavetski': ['Scott Harman', 'Sherry Sarkar', ],\n",
    "    'Zachary Stier': ['Andrew Brettin', 'Alisa Cui', 'Xiaotong Gui', 'Aubrey Hormel', 'Adam Jamil', 'Alex Kautz', 'Xinru Liu', 'Aneta Stastna', ],\n",
    "    'Jakub Tetek': ['Heman Gandhi', 'Martin Hora', 'Michael Yang'],\n",
    "    'Neekon Vafa': ['Martin Hora', 'Ryan Rice', 'Michael Yang'],\n",
    "    'Michael Yang': ['Martin Hora', 'Jakub Tetek', 'Neekon Vafa']\n",
    "}"
   ]
  },
  {
   "cell_type": "code",
   "execution_count": 54,
   "metadata": {
    "collapsed": true
   },
   "outputs": [],
   "source": [
    "class Graph(object):\n",
    "\n",
    "    def __init__(self, dictionary=None):\n",
    "        \"\"\" initializes a graph object\n",
    "            keys are vertices, and values are neighboring vertices\n",
    "            If no dictionary or None is given, \n",
    "            an empty dictionary will be used\n",
    "        \"\"\"\n",
    "        if dictionary == None:\n",
    "            dictionary = {}\n",
    "        self.dictionary = dictionary\n",
    "    \n",
    "    def vertex_degree(self, vertex):\n",
    "        \"\"\" The degree of a vertex is the number of edges connecting\n",
    "            it, i.e. the number of adjacent vertices. Loops are counted \n",
    "            double, i.e. every occurence of vertex in the list \n",
    "            of adjacent vertices. \"\"\" \n",
    "        adj_vertices =  self.dictionary[vertex]\n",
    "        degree = len(adj_vertices) + adj_vertices.count(vertex)\n",
    "        return degree\n",
    "    \n",
    "    def test_function(self, f, vertex1, vertex2):\n",
    "        \"\"\" Takes in two vertices and tests if a boolean\n",
    "        relationship f holds true between them \"\"\"\n",
    "        return f(vertex1, vertex2)\n",
    "    \n",
    "    def test_all(self, f):\n",
    "        for vertex in self.dictionary:\n",
    "            for neighbor in self.dictionary[vertex]:\n",
    "                if not self.test_function(f, vertex, neighbor):\n",
    "                    return False\n",
    "        return True\n",
    "    \n",
    "    def failure_edges(self, f):\n",
    "        \"\"\" Creates a set of all edges for which the function fails.\n",
    "        Edges are represented as ordered pairs of \"\"\"\n",
    "        bad_edges = Set()\n",
    "        for vertex in self.dictionary:\n",
    "            for neighbor in self.dictionary[vertex]:\n",
    "                if not self.test_function(f, vertex, neighbor) and vertex < neighbor:\n",
    "                    bad_edges.add((vertex, neighbor))\n",
    "    \n",
    "    def print_degrees_descending(self):\n",
    "        nodes = list(graph.dictionary)\n",
    "        sortednodes = sorted(nodes, key = lambda name: -graph.vertex_degree(name))\n",
    "        for node in sortednodes:\n",
    "            print(node, graph.vertex_degree(node))"
   ]
  },
  {
   "cell_type": "code",
   "execution_count": 49,
   "metadata": {
    "collapsed": true
   },
   "outputs": [],
   "source": [
    "# Verify that each edge is mutually shared among participants\n",
    "graph = Graph(references)\n",
    "for vertex in graph.dictionary:\n",
    "    for neighbor in graph.dictionary[vertex]:\n",
    "        if vertex not in set(graph.dictionary[neighbor]):\n",
    "            print('Error: Asymmetric graph')"
   ]
  },
  {
   "cell_type": "code",
   "execution_count": 50,
   "metadata": {},
   "outputs": [
    {
     "name": "stdout",
     "output_type": "stream",
     "text": [
      "Adam Jamil 11\n",
      "Alex Kautz 11\n",
      "Christopher Espana 10\n",
      "Alisa Cui 9\n",
      "Caitlin Guccione 8\n",
      "Aubrey Hormel 8\n",
      "Zachary Stier 8\n",
      "Andrew Brettin 7\n",
      "Dalton Burke 7\n",
      "Elise Catania 7\n",
      "Debra Chait 7\n",
      "Aneta Stastna 7\n",
      "Scott Harman 6\n",
      "Rahul Ilango 6\n",
      "Ryan Rice 6\n",
      "Sherry Sarkar 6\n",
      "Ryan Gross 5\n",
      "Xiaotong Gui 5\n",
      "Xinru Liu 5\n",
      "Ruby Ortiz 5\n",
      "Gabriel Eiseman 3\n",
      "Nicholas Georgiou 3\n",
      "Martin Hora 3\n",
      "Froylan Maldonado 3\n",
      "Evaristo Rodriguez 3\n",
      "Pejmon Shariati 3\n",
      "Ondrej Splichal 3\n",
      "Jakub Tetek 3\n",
      "Neekon Vafa 3\n",
      "Michael Yang 3\n",
      "Heman Gandhi 2\n",
      "Daniel Nakhimovich 2\n",
      "Michael Skotnica 2\n",
      "Timothy Stavetski 2\n",
      "Vaclav Koncicky 0\n"
     ]
    }
   ],
   "source": [
    "graph.print_degrees_descending()"
   ]
  },
  {
   "cell_type": "code",
   "execution_count": 51,
   "metadata": {
    "collapsed": true
   },
   "outputs": [],
   "source": [
    "def function1(string1, string2):\n",
    "    return abs(ord(string1[0])-ord(string2[0])) < 3"
   ]
  },
  {
   "cell_type": "code",
   "execution_count": 52,
   "metadata": {},
   "outputs": [
    {
     "data": {
      "text/plain": [
       "False"
      ]
     },
     "execution_count": 52,
     "metadata": {},
     "output_type": "execute_result"
    }
   ],
   "source": [
    "graph.test_all(function1)"
   ]
  },
  {
   "cell_type": "code",
   "execution_count": 55,
   "metadata": {},
   "outputs": [
    {
     "ename": "NameError",
     "evalue": "name 'Set' is not defined",
     "output_type": "error",
     "traceback": [
      "\u001b[0;31m---------------------------------------------------------------------------\u001b[0m",
      "\u001b[0;31mNameError\u001b[0m                                 Traceback (most recent call last)",
      "\u001b[0;32m<ipython-input-55-92e91123841d>\u001b[0m in \u001b[0;36m<module>\u001b[0;34m()\u001b[0m\n\u001b[0;32m----> 1\u001b[0;31m \u001b[0mprint\u001b[0m\u001b[0;34m(\u001b[0m\u001b[0mgraph\u001b[0m\u001b[0;34m.\u001b[0m\u001b[0mfailure_edges\u001b[0m\u001b[0;34m(\u001b[0m\u001b[0mfunction1\u001b[0m\u001b[0;34m)\u001b[0m\u001b[0;34m)\u001b[0m\u001b[0;34m\u001b[0m\u001b[0m\n\u001b[0m",
      "\u001b[0;32m<ipython-input-48-0874a080f3dc>\u001b[0m in \u001b[0;36mfailure_edges\u001b[0;34m(self, f)\u001b[0m\n\u001b[1;32m     33\u001b[0m     \u001b[0;32mdef\u001b[0m \u001b[0mfailure_edges\u001b[0m\u001b[0;34m(\u001b[0m\u001b[0mself\u001b[0m\u001b[0;34m,\u001b[0m \u001b[0mf\u001b[0m\u001b[0;34m)\u001b[0m\u001b[0;34m:\u001b[0m\u001b[0;34m\u001b[0m\u001b[0m\n\u001b[1;32m     34\u001b[0m         \u001b[0;34m\"\"\"Creates a set of all edges for which the function fails.\"\"\"\u001b[0m\u001b[0;34m\u001b[0m\u001b[0m\n\u001b[0;32m---> 35\u001b[0;31m         \u001b[0mbad_edges\u001b[0m \u001b[0;34m=\u001b[0m \u001b[0mSet\u001b[0m\u001b[0;34m(\u001b[0m\u001b[0;34m)\u001b[0m\u001b[0;34m\u001b[0m\u001b[0m\n\u001b[0m\u001b[1;32m     36\u001b[0m         \u001b[0;32mfor\u001b[0m \u001b[0mvertex\u001b[0m \u001b[0;32min\u001b[0m \u001b[0mself\u001b[0m\u001b[0;34m.\u001b[0m\u001b[0mdictionary\u001b[0m\u001b[0;34m:\u001b[0m\u001b[0;34m\u001b[0m\u001b[0m\n\u001b[1;32m     37\u001b[0m             \u001b[0;32mfor\u001b[0m \u001b[0mneighbor\u001b[0m \u001b[0;32min\u001b[0m \u001b[0mself\u001b[0m\u001b[0;34m.\u001b[0m\u001b[0mdictionary\u001b[0m\u001b[0;34m[\u001b[0m\u001b[0mvertex\u001b[0m\u001b[0;34m]\u001b[0m\u001b[0;34m:\u001b[0m\u001b[0;34m\u001b[0m\u001b[0m\n",
      "\u001b[0;31mNameError\u001b[0m: name 'Set' is not defined"
     ]
    }
   ],
   "source": [
    "print(graph.failure_edges(function1))"
   ]
  }
 ],
 "metadata": {
  "kernelspec": {
   "display_name": "Python 3",
   "language": "python",
   "name": "python3"
  },
  "language_info": {
   "codemirror_mode": {
    "name": "ipython",
    "version": 3
   },
   "file_extension": ".py",
   "mimetype": "text/x-python",
   "name": "python",
   "nbconvert_exporter": "python",
   "pygments_lexer": "ipython3",
   "version": "3.6.3"
  }
 },
 "nbformat": 4,
 "nbformat_minor": 2
}
