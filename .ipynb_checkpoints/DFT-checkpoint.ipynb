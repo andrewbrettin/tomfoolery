{
 "cells": [
  {
   "cell_type": "code",
   "execution_count": 1,
   "metadata": {},
   "outputs": [],
   "source": [
    "import numpy as np"
   ]
  },
  {
   "cell_type": "code",
   "execution_count": 30,
   "metadata": {},
   "outputs": [],
   "source": [
    "L = 2*np.pi\n",
    "Nk = 17\n",
    "Nx = 2*(Nk-1)\n",
    "dx = L/Nx\n",
    "xs = np.linspace(0,L,Nx+1)"
   ]
  },
  {
   "cell_type": "code",
   "execution_count": 31,
   "metadata": {},
   "outputs": [
    {
     "data": {
      "text/plain": [
       "array([0.        , 0.19634954, 0.39269908, 0.58904862, 0.78539816,\n",
       "       0.9817477 , 1.17809725, 1.37444679, 1.57079633, 1.76714587,\n",
       "       1.96349541, 2.15984495, 2.35619449, 2.55254403, 2.74889357,\n",
       "       2.94524311, 3.14159265, 3.33794219, 3.53429174, 3.73064128,\n",
       "       3.92699082, 4.12334036, 4.3196899 , 4.51603944, 4.71238898,\n",
       "       4.90873852, 5.10508806, 5.3014376 , 5.49778714, 5.69413668,\n",
       "       5.89048623, 6.08683577, 6.28318531])"
      ]
     },
     "execution_count": 31,
     "metadata": {},
     "output_type": "execute_result"
    }
   ],
   "source": [
    "xs"
   ]
  },
  {
   "cell_type": "code",
   "execution_count": 32,
   "metadata": {},
   "outputs": [
    {
     "data": {
      "text/plain": [
       "0.19634954084936207"
      ]
     },
     "execution_count": 32,
     "metadata": {},
     "output_type": "execute_result"
    }
   ],
   "source": [
    "xs[1]-xs[0]"
   ]
  },
  {
   "cell_type": "code",
   "execution_count": 33,
   "metadata": {},
   "outputs": [
    {
     "data": {
      "text/plain": [
       "array([0.        , 0.09817477, 0.19634954, 0.29452431, 0.39269908,\n",
       "       0.49087385, 0.58904862, 0.68722339, 0.78539816, 0.88357293,\n",
       "       0.9817477 , 1.07992247, 1.17809725, 1.27627202, 1.37444679,\n",
       "       1.47262156, 1.57079633, 1.47262156, 1.37444679, 1.27627202,\n",
       "       1.17809725, 1.07992247, 0.9817477 , 0.88357293, 0.78539816,\n",
       "       0.68722339, 0.58904862, 0.49087385, 0.39269908, 0.29452431,\n",
       "       0.19634954, 0.09817477])"
      ]
     },
     "execution_count": 33,
     "metadata": {},
     "output_type": "execute_result"
    }
   ],
   "source": [
    "np.pi * np.abs(np.fft.fftfreq(Nx))"
   ]
  },
  {
   "cell_type": "code",
   "execution_count": 46,
   "metadata": {},
   "outputs": [
    {
     "data": {
      "text/plain": [
       "array([0.     , 0.03125, 0.0625 , 0.09375, 0.125  , 0.15625, 0.1875 ,\n",
       "       0.21875, 0.25   , 0.28125, 0.3125 , 0.34375, 0.375  , 0.40625,\n",
       "       0.4375 , 0.46875, 0.5    ])"
      ]
     },
     "execution_count": 46,
     "metadata": {},
     "output_type": "execute_result"
    }
   ],
   "source": [
    "np.abs(np.fft.fftfreq(Nx))[0:Nk]"
   ]
  },
  {
   "cell_type": "code",
   "execution_count": 37,
   "metadata": {},
   "outputs": [
    {
     "name": "stdout",
     "output_type": "stream",
     "text": [
      "32\n",
      "17\n"
     ]
    }
   ],
   "source": [
    "print(len(np.fft.fftfreq(Nx)))\n",
    "print(len(np.fft.fftfreq(Nx)[0:Nk]))"
   ]
  },
  {
   "cell_type": "code",
   "execution_count": 45,
   "metadata": {},
   "outputs": [
    {
     "data": {
      "text/plain": [
       "array([0.     , 0.03125, 0.0625 , 0.09375, 0.125  , 0.15625, 0.1875 ,\n",
       "       0.21875, 0.25   , 0.28125, 0.3125 , 0.34375, 0.375  , 0.40625,\n",
       "       0.4375 , 0.46875, 0.5    ])"
      ]
     },
     "execution_count": 45,
     "metadata": {},
     "output_type": "execute_result"
    }
   ],
   "source": [
    "np.fft.rfftfreq(Nx)"
   ]
  },
  {
   "cell_type": "code",
   "execution_count": null,
   "metadata": {},
   "outputs": [],
   "source": []
  }
 ],
 "metadata": {
  "kernelspec": {
   "display_name": "Python 3",
   "language": "python",
   "name": "python3"
  },
  "language_info": {
   "codemirror_mode": {
    "name": "ipython",
    "version": 3
   },
   "file_extension": ".py",
   "mimetype": "text/x-python",
   "name": "python",
   "nbconvert_exporter": "python",
   "pygments_lexer": "ipython3",
   "version": "3.7.4"
  }
 },
 "nbformat": 4,
 "nbformat_minor": 2
}
