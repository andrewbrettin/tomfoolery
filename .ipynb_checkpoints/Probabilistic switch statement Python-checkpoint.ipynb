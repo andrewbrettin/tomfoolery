{
 "cells": [
  {
   "cell_type": "code",
   "execution_count": 1,
   "metadata": {
    "collapsed": true
   },
   "outputs": [],
   "source": [
    "import numpy.random as rand\n",
    "rand.seed(0)"
   ]
  },
  {
   "cell_type": "code",
   "execution_count": 2,
   "metadata": {
    "collapsed": true
   },
   "outputs": [],
   "source": [
    "def prob_switch(distribution):\n",
    "    \"\"\"Given a set of events and associated probabilities of occurence, \n",
    "    randomly selects an event to occur.\n",
    "    Distribution is a dictionary with keys\n",
    "    which are mutually exclusive events\n",
    "    and values are event probabilities\"\"\"\n",
    "    \n",
    "    # Check that probablities sum to 1. If not, normalize\n",
    "    probability_sum = 0\n",
    "    for event in distribution:\n",
    "        probability_sum += distribution[event]\n",
    "    if abs(probability_sum - 1.0) >= 1.0e-6:\n",
    "        print('Warning: probabilities do not sum to 1')\n",
    "        print('Using relative odds instead')\n",
    "        for event in distribution:\n",
    "            distribution[event] /= probability_sum\n",
    "    r = rand.sample()\n",
    "    total = 0\n",
    "    for event in distribution:\n",
    "        total += distribution[event]\n",
    "        if r <= total:\n",
    "            return event"
   ]
  },
  {
   "cell_type": "code",
   "execution_count": 3,
   "metadata": {},
   "outputs": [
    {
     "name": "stdout",
     "output_type": "stream",
     "text": [
      "Warning: probabilities do not sum to 1\n",
      "Using relative odds instead\n",
      "CD\n",
      "CD\n",
      "CD\n",
      "CD\n",
      "BC\n",
      "CD\n",
      "BC\n",
      "CD\n",
      "CD\n",
      "BC\n",
      "CD\n",
      "CD\n",
      "CD\n",
      "CD\n",
      "AB\n"
     ]
    }
   ],
   "source": [
    "dist  = {'AB': 0.1, 'AC': 0.01, 'BC': 0.05, 'CD': 0.15}\n",
    "for _ in range(15):\n",
    "    print(prob_switch(dist))"
   ]
  },
  {
   "cell_type": "code",
   "execution_count": 18,
   "metadata": {},
   "outputs": [
    {
     "data": {
      "text/plain": [
       "'r'"
      ]
     },
     "execution_count": 18,
     "metadata": {},
     "output_type": "execute_result"
    }
   ],
   "source": [
    "string = 'String'\n",
    "string[2]"
   ]
  },
  {
   "cell_type": "code",
   "execution_count": null,
   "metadata": {
    "collapsed": true
   },
   "outputs": [],
   "source": []
  }
 ],
 "metadata": {
  "kernelspec": {
   "display_name": "Python 3",
   "language": "python",
   "name": "python3"
  },
  "language_info": {
   "codemirror_mode": {
    "name": "ipython",
    "version": 3
   },
   "file_extension": ".py",
   "mimetype": "text/x-python",
   "name": "python",
   "nbconvert_exporter": "python",
   "pygments_lexer": "ipython3",
   "version": "3.6.3"
  }
 },
 "nbformat": 4,
 "nbformat_minor": 2
}
