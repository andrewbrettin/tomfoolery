{
 "cells": [
  {
   "cell_type": "code",
   "execution_count": 1,
   "metadata": {
    "collapsed": true
   },
   "outputs": [],
   "source": [
    "import numpy as np\n",
    "import matplotlib.pyplot as plt\n",
    "from scipy.integrate import odeint"
   ]
  },
  {
   "cell_type": "code",
   "execution_count": 2,
   "metadata": {
    "collapsed": true
   },
   "outputs": [],
   "source": [
    "# Parameters\n",
    "\n",
    "a_n = 1\n",
    "a_e = 2\n",
    "N_n = 1\n",
    "N_e = 2\n",
    "b_nn = 1\n",
    "b_en = 2\n",
    "b_ne = .5\n",
    "b_ee = .5\n",
    "m_n = .1\n",
    "m_e = .1\n",
    "k_n = .1\n",
    "k_e = .05\n",
    "sigma = 1\n",
    "gamma_n = 1\n",
    "gamma_e = 1\n",
    "c = 2.25\n",
    "\n",
    "H = 0.5\n",
    "delta = .1"
   ]
  },
  {
   "cell_type": "code",
   "execution_count": 11,
   "metadata": {
    "collapsed": true
   },
   "outputs": [],
   "source": [
    "def f(x, t):\n",
    "    f_1 = (a_n * (x[4] - N_n) - b_nn * x[2] - b_en * x[3]) * x[0]\n",
    "    f_2 = (a_e * (x[4] - N_e) - b_ee * x[3] - b_ne * x[2]) * x[1]\n",
    "\n",
    "    return (\n",
    "        f_1 - m_n * x[0],\n",
    "        f_2 - m_e * x[1],\n",
    "        m_n * x[0] - k_n * x[2],\n",
    "        m_e * x[1] - k_e * x[3],\n",
    "        c - sigma * x[4] + gamma_n * (-f_1 + k_n * x[2]) + gamma_e * (-f_2 + k_e * x[3])\n",
    "    )"
   ]
  },
  {
   "cell_type": "code",
   "execution_count": 4,
   "metadata": {
    "collapsed": true
   },
   "outputs": [],
   "source": [
    "def flow(f, x_0, t_0, tau, dt = 0.1):\n",
    "    \"\"\" \n",
    "        To do. \n",
    "    \"\"\"\n",
    "    ts = np.arange(t_0, t_0 + tau, dt)\n",
    "    xs = odeint(f, x_0, ts)\n",
    "    return (ts, xs)"
   ]
  },
  {
   "cell_type": "code",
   "execution_count": 5,
   "metadata": {
    "collapsed": true
   },
   "outputs": [],
   "source": [
    "def kick(X):\n",
    "    const = -H / (delta * (X[0] + X[1]) + X[2] + X[3])\n",
    "    kick_vector = np.array([\n",
    "        const * delta * X[0],\n",
    "        const * delta * X[1],\n",
    "        const * X[2],\n",
    "        const * X[3],\n",
    "        0\n",
    "    ])\n",
    "    return kick_vector"
   ]
  },
  {
   "cell_type": "code",
   "execution_count": 6,
   "metadata": {},
   "outputs": [],
   "source": [
    "def flow_and_kick(f, x_0, t_0, tau, T, dt=0.01):\n",
    "    \"\"\" Returns t,x pair of the flow-kick system.\n",
    "        tau is the time span between flow kicks\n",
    "        T is the total simulation timespan. \"\"\"\n",
    "    ts, xs = flow(f, x_0, t_0, tau)\n",
    "    num_kicks = int(T/tau)\n",
    "    for i in range(num_kicks):\n",
    "        print(xs[-1])\n",
    "        xs[-1] = xs[-1] + kick(xs[-1])\n",
    "        print(xs[-1], '\\n')\n",
    "        ts = np.append(ts,flow(f, xs[-1], ts[-1], tau)[0])\n",
    "        temp = flow(f, xs[-1], ts[-1], tau)[1]\n",
    "        xs = np.append(xs,temp)\n",
    "        xs = np.reshape(xs, (np.size(ts),5))\n",
    "    new_tau = T-tau*num_kicks\n",
    "    ts = np.append(ts, flow(f, xs[-1], ts[-1], new_tau)[0])\n",
    "    xs = np.append(xs, flow(f, xs[-1], ts[-1], new_tau)[1])\n",
    "    xs = np.reshape(xs, (np.size(ts),5))\n",
    "    \n",
    "    return (ts,xs)"
   ]
  },
  {
   "cell_type": "markdown",
   "metadata": {},
   "source": [
    "## Plotting functions"
   ]
  },
  {
   "cell_type": "code",
   "execution_count": 7,
   "metadata": {
    "collapsed": true
   },
   "outputs": [],
   "source": [
    "def time_plot(ts, xs, variable = 0, directory = None):\n",
    "    \"\"\" \n",
    "        variable is the coordinate number of the variable of interest (default to 0)\"\"\"\n",
    "    plt.clf()\n",
    "    fig = plt.figure();\n",
    "    ax = fig.add_axes([0.1, 0.1, 0.8, 0.8]);\n",
    "    ax.plot(ts, xs[:,variable]);\n",
    "    plt.show()"
   ]
  },
  {
   "cell_type": "code",
   "execution_count": 14,
   "metadata": {
    "collapsed": true
   },
   "outputs": [],
   "source": [
    "def all_time_plot(ts, xs, directory = None):\n",
    "    \"\"\" Plots time series plots for each state variable. \"\"\"\n",
    "    plt.clf()\n",
    "    dim = np.shape(xs)[1] # Dimension of state vector\n",
    "    fig = plt.figure();\n",
    "    ax = fig.add_axes([0.1, 0.1, 0.8, 0.8]);\n",
    "    colorvec = ['g', 'r', 'b', 'm', 'k']\n",
    "    for i in range(dim):\n",
    "        ax.plot(ts, xs[:,i], color = colorvec[i]);\n",
    "    plt.show()"
   ]
  },
  {
   "cell_type": "code",
   "execution_count": 9,
   "metadata": {
    "collapsed": true
   },
   "outputs": [],
   "source": [
    "def phase_plot(xs, var_1, var_2):\n",
    "    \"\"\" given the values of xs, plots two of the variables \n",
    "        against each other (phase portrait) \n",
    "        var_1: coordinate of x_axis variable\n",
    "        var_2: coordinate of y_axis variable \"\"\"\n",
    "    plt.clf()\n",
    "    fig = plt.figure();\n",
    "    ax = fig.add_axes([0.1, 0.1, 0.8, 0.8]);\n",
    "    ax.plot(xs[:, var_1], xs[:, var_2]);\n",
    "    plt.show()"
   ]
  },
  {
   "cell_type": "code",
   "execution_count": 15,
   "metadata": {},
   "outputs": [
    {
     "name": "stdout",
     "output_type": "stream",
     "text": [
      "[6.13234318e-04 4.70683529e+00 8.33863853e-01 2.36858363e+00\n",
      " 2.76190762e+00]\n",
      "[6.04886888e-04 4.64276520e+00 7.20357157e-01 2.04616877e+00\n",
      " 2.76190762e+00] \n",
      "\n",
      "[7.26088831e-09 2.72201557e+00 5.39030779e-01 2.75800517e+00\n",
      " 2.76359682e+00]\n",
      "[7.15917347e-09 2.68388395e+00 4.63520144e-01 2.37164741e+00\n",
      " 2.76359682e+00] \n",
      "\n",
      "[9.42975756e-14 1.44311834e+00 3.46835239e-01 2.60376053e+00\n",
      " 2.65899999e+00]\n",
      "[9.27741444e-14 1.41980394e+00 2.90802025e-01 2.18310814e+00\n",
      " 2.65899999e+00] \n",
      "\n"
     ]
    },
    {
     "data": {
      "text/plain": [
       "<matplotlib.figure.Figure at 0x10e7cf668>"
      ]
     },
     "metadata": {},
     "output_type": "display_data"
    },
    {
     "data": {
      "image/png": "[encoded data removed]",
      "text/plain": [
       "<matplotlib.figure.Figure at 0x10e632c18>"
      ]
     },
     "metadata": {},
     "output_type": "display_data"
    }
   ],
   "source": [
    "x_0 = (2,5,1,1,3)\n",
    "t_0 = 0\n",
    "tau = 3\n",
    "T = 11\n",
    "ts, xs = flow_and_kick(f, x_0, t_0, tau, T)\n",
    "#ts, xs = flow(f, x_0, t_0, tau)\n",
    "all_time_plot(ts, xs)"
   ]
  },
  {
   "cell_type": "code",
   "execution_count": null,
   "metadata": {
    "collapsed": true
   },
   "outputs": [],
   "source": []
  }
 ],
 "metadata": {
  "kernelspec": {
   "display_name": "Python 3",
   "language": "python",
   "name": "python3"
  },
  "language_info": {
   "codemirror_mode": {
    "name": "ipython",
    "version": 3
   },
   "file_extension": ".py",
   "mimetype": "text/x-python",
   "name": "python",
   "nbconvert_exporter": "python",
   "pygments_lexer": "ipython3",
   "version": "3.6.3"
  }
 },
 "nbformat": 4,
 "nbformat_minor": 2
}
